{
 "cells": [
  {
   "cell_type": "code",
   "execution_count": 1,
   "metadata": {},
   "outputs": [
    {
     "ename": "SyntaxError",
     "evalue": "EOF while scanning triple-quoted string literal (<ipython-input-1-5fbb79ba5361>, line 12)",
     "output_type": "error",
     "traceback": [
      "\u001b[1;36m  File \u001b[1;32m\"<ipython-input-1-5fbb79ba5361>\"\u001b[1;36m, line \u001b[1;32m12\u001b[0m\n\u001b[1;33m    Price->Area and Price->no_of_rooms and Price->age_house\u001b[0m\n\u001b[1;37m                                                           \n^\u001b[0m\n\u001b[1;31mSyntaxError\u001b[0m\u001b[1;31m:\u001b[0m EOF while scanning triple-quoted string literal\n"
     ]
    }
   ],
   "source": [
    "#Multiple Linear Regression (MLR) : -\n",
    "'''Means many input but target only one means output only one\n",
    "means target will be depend on multiple input\n",
    "suppose we want to predict the price of house based on various input\n",
    "we have input\n",
    "  X1                    X2          X3                                  Y\n",
    "Area(in sqrt ft.)  no_of_rooms   age_house  and output means target : Price \n",
    "which want to predict\n",
    "Equation of Predicted Line : Y_pred=m1*X1+m2*X2+m3*age_house+b here b intercept\n",
    "and m1,m2 and m3 coefficient or slope on Area, No_of_rooms and age_house\n",
    "respectively \n",
    "Price->Area and Price->no_of_rooms and Price->age_house\n"
   ]
  },
  {
   "cell_type": "code",
   "execution_count": null,
   "metadata": {},
   "outputs": [],
   "source": [
    "import numpy as np\n",
    "import pandas as pd\n",
    "import matplotlib.pyplot as plt\n",
    "import seaborn as sns\n",
    "import warnings\n",
    "warnings.filterwarnings('ignore')"
   ]
  },
  {
   "cell_type": "code",
   "execution_count": null,
   "metadata": {},
   "outputs": [],
   "source": [
    "#To load dataset\n",
    "df=pd.read_csv(\"homes_price.csv\")\n",
    "print(df)"
   ]
  },
  {
   "cell_type": "code",
   "execution_count": null,
   "metadata": {},
   "outputs": [],
   "source": [
    "#check null values\n",
    "df.isnull().sum()\n"
   ]
  },
  {
   "cell_type": "code",
   "execution_count": null,
   "metadata": {},
   "outputs": [],
   "source": [
    "#visualize null values\n",
    "sns.heatmap(df)   #x-axis=colomn  y-axis=row\n",
    "plt.show()"
   ]
  },
  {
   "cell_type": "code",
   "execution_count": null,
   "metadata": {},
   "outputs": [],
   "source": [
    "df.info()"
   ]
  },
  {
   "cell_type": "code",
   "execution_count": null,
   "metadata": {},
   "outputs": [],
   "source": [
    "round(df[\"no_of_rooms\"].mean(),0)"
   ]
  },
  {
   "cell_type": "code",
   "execution_count": null,
   "metadata": {},
   "outputs": [],
   "source": [
    "round(df[\"no_of_rooms\"].median(),0)"
   ]
  },
  {
   "cell_type": "code",
   "execution_count": null,
   "metadata": {},
   "outputs": [],
   "source": [
    "#fill null values in no_of_rooms with mean permanently \n",
    "df[\"no_of_rooms\"].fillna(round(df[\"no_of_rooms\"].mean(),0),inplace=True)"
   ]
  },
  {
   "cell_type": "code",
   "execution_count": null,
   "metadata": {},
   "outputs": [],
   "source": [
    "#visualize null values\n",
    "sns.heatmap(df)   #x-axis=colomn  y-axis=row\n",
    "plt.show()"
   ]
  },
  {
   "cell_type": "code",
   "execution_count": null,
   "metadata": {},
   "outputs": [],
   "source": [
    "df\n"
   ]
  },
  {
   "cell_type": "code",
   "execution_count": null,
   "metadata": {},
   "outputs": [],
   "source": [
    "#check relation between input variable Area with price(output)\n",
    "sns.scatterplot(data=df,x=\"Area\",y=\"price\") # we can check 2d one input=area and one outpu=price \n",
    "plt.show()"
   ]
  },
  {
   "cell_type": "code",
   "execution_count": null,
   "metadata": {},
   "outputs": [],
   "source": [
    "#check relation between input variable no_of_rooms with price(output)\n",
    "sns.scatterplot(data=df,x=\"no_of_rooms\",y=\"price\")  # we can check 2d one input=no_of_rooms and one outpu=price\n",
    "plt.show()"
   ]
  },
  {
   "cell_type": "code",
   "execution_count": null,
   "metadata": {},
   "outputs": [],
   "source": [
    "#check relation between input variable age_house with price(output)\n",
    "sns.scatterplot(data=df,x=\"age_house\",y=\"price\")\n",
    "plt.show()"
   ]
  },
  {
   "cell_type": "code",
   "execution_count": null,
   "metadata": {},
   "outputs": [],
   "source": [
    "#check correlation \n",
    "sns.heatmap(df.corr(),annot=True)\n",
    "plt.show()"
   ]
  },
  {
   "cell_type": "code",
   "execution_count": null,
   "metadata": {},
   "outputs": [],
   "source": [
    "#Model perform with linear regression because we predict contineous \n",
    "#numerical value call Linear Regression class\n",
    "from sklearn.linear_model import LinearRegression"
   ]
  },
  {
   "cell_type": "code",
   "execution_count": null,
   "metadata": {},
   "outputs": [],
   "source": [
    "#select input and output from dataframe df\n",
    "X=df[[\"Area\",\"no_of_rooms\",\"age_house\"]] #inputs\n",
    "Y=df[\"price\"] #outputs"
   ]
  },
  {
   "cell_type": "code",
   "execution_count": null,
   "metadata": {},
   "outputs": [],
   "source": [
    "#Create the object of LinearRegression class\n",
    "lr=LinearRegression()"
   ]
  },
  {
   "cell_type": "code",
   "execution_count": null,
   "metadata": {},
   "outputs": [],
   "source": [
    "#we tarin the model means use fit() method\n",
    "lr.fit(X,Y)"
   ]
  },
  {
   "cell_type": "code",
   "execution_count": null,
   "metadata": {},
   "outputs": [],
   "source": [
    "#check coefficient of inputs after train the model\n",
    "lr.coef_"
   ]
  },
  {
   "cell_type": "code",
   "execution_count": null,
   "metadata": {},
   "outputs": [],
   "source": [
    "#here slope of Area =165.47645491\n",
    "#slope of no_of_rooms=-72491.11505997\n",
    "#slope of age_house=-10725.23322968"
   ]
  },
  {
   "cell_type": "code",
   "execution_count": null,
   "metadata": {},
   "outputs": [],
   "source": [
    "#check intercept\n",
    "lr.intercept_"
   ]
  },
  {
   "cell_type": "code",
   "execution_count": null,
   "metadata": {},
   "outputs": [],
   "source": [
    "#we prediction , given find the house price whose Area=3000  sq ft \n",
    "#no_of_rooms=3 and age_house=40 years old\n",
    "lr.predict([[3000,3,40]])"
   ]
  },
  {
   "cell_type": "code",
   "execution_count": null,
   "metadata": {},
   "outputs": [],
   "source": [
    "#we prediction , given find the house price whose Area=3300  sq ft \n",
    "#no_of_rooms=4 and age_house=2 years old\n",
    "lr.predict([[3500,4,2]])"
   ]
  },
  {
   "cell_type": "code",
   "execution_count": null,
   "metadata": {},
   "outputs": [],
   "source": []
  }
 ],
 "metadata": {
  "kernelspec": {
   "display_name": "Python 3",
   "language": "python",
   "name": "python3"
  },
  "language_info": {
   "codemirror_mode": {
    "name": "ipython",
    "version": 3
   },
   "file_extension": ".py",
   "mimetype": "text/x-python",
   "name": "python",
   "nbconvert_exporter": "python",
   "pygments_lexer": "ipython3",
   "version": "3.7.6"
  }
 },
 "nbformat": 4,
 "nbformat_minor": 4
}
