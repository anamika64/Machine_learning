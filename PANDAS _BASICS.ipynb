{
 "cells": [
  {
   "cell_type": "code",
   "execution_count": 1,
   "metadata": {},
   "outputs": [],
   "source": [
    "import numpy as np # it use for mathematical fuctions in pandas"
   ]
  },
  {
   "cell_type": "code",
   "execution_count": 2,
   "metadata": {},
   "outputs": [],
   "source": [
    "#SERIES: ONLY ONE COL  ----ex-1D array\n",
    "#DATAFRAME: MANY RO MANY COL IE.ITS CALLED DATA ---------ex-2D array\n",
    "# MANY SERIES COMBINE ITS SHOULD BE  CALLED DATA FRAME "
   ]
  },
  {
   "cell_type": "code",
   "execution_count": 3,
   "metadata": {},
   "outputs": [],
   "source": [
    "import pandas as pd\n"
   ]
  },
  {
   "cell_type": "code",
   "execution_count": 4,
   "metadata": {},
   "outputs": [],
   "source": [
    "#1.series is a one dimesional array with homogenoues\n",
    "#key point of series\n",
    "#   it is immutable  ie. row  of col we cant add or update its index cant update\n",
    "#values of data mutable means change the value of data ie. we cant add any row and col but we can chnage the row value like index 0 value is annu can change another name "
   ]
  },
  {
   "cell_type": "code",
   "execution_count": 5,
   "metadata": {},
   "outputs": [
    {
     "name": "stdout",
     "output_type": "stream",
     "text": [
      "Series([], dtype: float64)\n"
     ]
    },
    {
     "name": "stderr",
     "output_type": "stream",
     "text": [
      "C:\\ProgramData\\Anaconda3\\lib\\site-packages\\ipykernel_launcher.py:2: DeprecationWarning: The default dtype for empty Series will be 'object' instead of 'float64' in a future version. Specify a dtype explicitly to silence this warning.\n",
      "  \n"
     ]
    }
   ],
   "source": [
    "# create an Empty series\n",
    "A=pd.Series()# bydefault tyoe float64\n",
    "print(A)"
   ]
  },
  {
   "cell_type": "code",
   "execution_count": 6,
   "metadata": {},
   "outputs": [
    {
     "name": "stdout",
     "output_type": "stream",
     "text": [
      "[45, 67, 89, 23]\n"
     ]
    }
   ],
   "source": [
    "#create a serias from list\n",
    "data=[45,67,89,23] #data user defined list object\n",
    "print(data)"
   ]
  },
  {
   "cell_type": "code",
   "execution_count": 7,
   "metadata": {},
   "outputs": [
    {
     "name": "stdout",
     "output_type": "stream",
     "text": [
      "0    45\n",
      "1    67\n",
      "2    89\n",
      "3    23\n",
      "dtype: int64\n"
     ]
    }
   ],
   "source": [
    "marks=pd.Series(data)#converts list into sereis(1-D array)\n",
    "print(marks)"
   ]
  },
  {
   "cell_type": "code",
   "execution_count": 8,
   "metadata": {},
   "outputs": [
    {
     "name": "stdout",
     "output_type": "stream",
     "text": [
      "[34  1 45 67 78]\n"
     ]
    }
   ],
   "source": [
    "#create a series from ndarray(use in numpy) \n",
    "data=np.array([34,1,45,67,78])#1D array create from numpy array \n",
    "print(data)\n"
   ]
  },
  {
   "cell_type": "code",
   "execution_count": 9,
   "metadata": {},
   "outputs": [
    {
     "name": "stdout",
     "output_type": "stream",
     "text": [
      "0    34\n",
      "1     1\n",
      "2    45\n",
      "3    67\n",
      "4    78\n",
      "dtype: int32\n"
     ]
    }
   ],
   "source": [
    "#covert 1D numpy array to series in pandas \n",
    "A=pd.Series(data)\n",
    "print(A)"
   ]
  },
  {
   "cell_type": "code",
   "execution_count": 10,
   "metadata": {},
   "outputs": [
    {
     "name": "stdout",
     "output_type": "stream",
     "text": [
      "[34  1 45 67 78]\n"
     ]
    }
   ],
   "source": [
    "#create a series from ndarray(use in numpy) \n",
    "data=np.array([34,1,45,67,78])#1D array create from numpy array \n",
    "print(data)"
   ]
  },
  {
   "cell_type": "code",
   "execution_count": 11,
   "metadata": {},
   "outputs": [
    {
     "name": "stdout",
     "output_type": "stream",
     "text": [
      "[34  1 45 67 78]\n"
     ]
    }
   ],
   "source": [
    "A=pd.Series(data)\n",
    "print(data)"
   ]
  },
  {
   "cell_type": "code",
   "execution_count": 12,
   "metadata": {},
   "outputs": [],
   "source": [
    "A=pd.Series(data,index=[100,101,102,103,104]) # here we give index value ,if not given  bydeault it can take from 0 to end "
   ]
  },
  {
   "cell_type": "code",
   "execution_count": 13,
   "metadata": {},
   "outputs": [
    {
     "name": "stdout",
     "output_type": "stream",
     "text": [
      "100    34\n",
      "101     1\n",
      "102    45\n",
      "103    67\n",
      "104    78\n",
      "dtype: int32\n"
     ]
    }
   ],
   "source": [
    "print(A)"
   ]
  },
  {
   "cell_type": "code",
   "execution_count": 14,
   "metadata": {},
   "outputs": [
    {
     "data": {
      "text/plain": [
       "1"
      ]
     },
     "execution_count": 14,
     "metadata": {},
     "output_type": "execute_result"
    }
   ],
   "source": [
    "A[101] #To access value at index 101"
   ]
  },
  {
   "cell_type": "code",
   "execution_count": 15,
   "metadata": {},
   "outputs": [],
   "source": [
    "A[101]=67 #update value 76 of index 101"
   ]
  },
  {
   "cell_type": "code",
   "execution_count": 16,
   "metadata": {},
   "outputs": [
    {
     "name": "stdout",
     "output_type": "stream",
     "text": [
      "100    34\n",
      "101    67\n",
      "102    45\n",
      "103    67\n",
      "104    78\n",
      "dtype: int32\n"
     ]
    }
   ],
   "source": [
    "print(A)"
   ]
  },
  {
   "cell_type": "code",
   "execution_count": 17,
   "metadata": {},
   "outputs": [],
   "source": [
    "#Example  of series means 1D array\n",
    "#we create a list (list means collection same or mixed datatype in single object)\n",
    "L=['Anamika',22,'Mumbai',8783748745]"
   ]
  },
  {
   "cell_type": "code",
   "execution_count": 18,
   "metadata": {},
   "outputs": [
    {
     "name": "stdout",
     "output_type": "stream",
     "text": [
      "['Anamika', 22, 'Mumbai', 8783748745]\n"
     ]
    }
   ],
   "source": [
    "print(L)"
   ]
  },
  {
   "cell_type": "code",
   "execution_count": 19,
   "metadata": {},
   "outputs": [
    {
     "name": "stdout",
     "output_type": "stream",
     "text": [
      "Name         Anamika\n",
      "Age               22\n",
      "City          Mumbai\n",
      "Mobile    8783748745\n",
      "dtype: object\n"
     ]
    }
   ],
   "source": [
    "#convert this list L into Series of pandas\n",
    "S=pd.Series(L,index=['Name','Age','City','Mobile'])\n",
    "print(S)"
   ]
  },
  {
   "cell_type": "code",
   "execution_count": 20,
   "metadata": {},
   "outputs": [
    {
     "data": {
      "text/plain": [
       "'Anamika'"
      ]
     },
     "execution_count": 20,
     "metadata": {},
     "output_type": "execute_result"
    }
   ],
   "source": [
    "#access the name of student\n",
    "S['Name']"
   ]
  },
  {
   "cell_type": "code",
   "execution_count": 21,
   "metadata": {},
   "outputs": [
    {
     "data": {
      "text/plain": [
       "Name    Anamika\n",
       "Age          22\n",
       "City     Mumbai\n",
       "dtype: object"
      ]
     },
     "execution_count": 21,
     "metadata": {},
     "output_type": "execute_result"
    }
   ],
   "source": [
    "#access name and city and age (multilpe col)  means 2D array\n",
    "#use [[]]\n",
    "S[['Name','Age','City']]"
   ]
  },
  {
   "cell_type": "code",
   "execution_count": 22,
   "metadata": {},
   "outputs": [
    {
     "name": "stdout",
     "output_type": "stream",
     "text": [
      "{'Name': 'Anamika', 'Age': 22, 'City': 'Mumbai', 'Mobile': 688767888}\n"
     ]
    }
   ],
   "source": [
    "#To hold data in dictionary in python key and value \n",
    "data={'Name':'Anamika','Age':22,'City':'Mumbai','Mobile':688767888}\n",
    "print(data)"
   ]
  },
  {
   "cell_type": "code",
   "execution_count": 23,
   "metadata": {},
   "outputs": [],
   "source": [
    "#covert this dictionary into Series pandas     # dictionary comes in 2D but its work on  only smalls data \n",
    "S=pd.Series(data)# here key work like index "
   ]
  },
  {
   "cell_type": "code",
   "execution_count": 24,
   "metadata": {},
   "outputs": [
    {
     "name": "stdout",
     "output_type": "stream",
     "text": [
      "Name        Anamika\n",
      "Age              22\n",
      "City         Mumbai\n",
      "Mobile    688767888\n",
      "dtype: object\n"
     ]
    }
   ],
   "source": [
    "print(S)"
   ]
  },
  {
   "cell_type": "code",
   "execution_count": 25,
   "metadata": {},
   "outputs": [],
   "source": [
    "#DataFrame in pandas means create 2 D arry means many student many row\n",
    "#and each row ,many coloumn\n",
    "#DataFrame is a main structure \n",
    "#DataFrame is store dat in tubular form \n",
    "# mny details of many student then use DataFrame\n",
    "#but create dictionaryin python\n",
    "dict1={\"Name\":['Annu','Arush','ishika','fareen',],\"Maths\":[56,67,89,23],\"Science\":[45,67,89,23],\"City\":[\"Mumbai\",\"chennai\",\"Usa\",\"America\"]}"
   ]
  },
  {
   "cell_type": "code",
   "execution_count": 26,
   "metadata": {},
   "outputs": [
    {
     "name": "stdout",
     "output_type": "stream",
     "text": [
      "{'Name': ['Annu', 'Arush', 'ishika', 'fareen'], 'Maths': [56, 67, 89, 23], 'Science': [45, 67, 89, 23], 'City': ['Mumbai', 'chennai', 'Usa', 'America']}\n"
     ]
    }
   ],
   "source": [
    "print(dict1)"
   ]
  },
  {
   "cell_type": "code",
   "execution_count": 27,
   "metadata": {},
   "outputs": [
    {
     "name": "stdout",
     "output_type": "stream",
     "text": [
      "     Name  Maths  Science     City\n",
      "0    Annu     56       45   Mumbai\n",
      "1   Arush     67       67  chennai\n",
      "2  ishika     89       89      Usa\n",
      "3  fareen     23       23  America\n"
     ]
    }
   ],
   "source": [
    "#Converts these dictionary dict1 into dataframe of pandas\n",
    "student=pd.DataFrame(dict1)#student user defined object of DataFrame\n",
    "print(student)"
   ]
  },
  {
   "cell_type": "code",
   "execution_count": 28,
   "metadata": {},
   "outputs": [
    {
     "data": {
      "text/plain": [
       "Name         Arush\n",
       "Maths           67\n",
       "Science         67\n",
       "City       chennai\n",
       "Name: 1, dtype: object"
      ]
     },
     "execution_count": 28,
     "metadata": {},
     "output_type": "execute_result"
    }
   ],
   "source": [
    "#access data from data frame student\n",
    "#access all details (all coloumns) of index 1\n",
    "student.iloc[1] #iloc index location row index location\n"
   ]
  },
  {
   "cell_type": "code",
   "execution_count": 29,
   "metadata": {},
   "outputs": [
    {
     "data": {
      "text/plain": [
       "Name       ishika\n",
       "Maths          89\n",
       "Science        89\n",
       "City          Usa\n",
       "Name: 2, dtype: object"
      ]
     },
     "execution_count": 29,
     "metadata": {},
     "output_type": "execute_result"
    }
   ],
   "source": [
    "student.iloc[2]\n"
   ]
  },
  {
   "cell_type": "code",
   "execution_count": 30,
   "metadata": {},
   "outputs": [
    {
     "data": {
      "text/plain": [
       "67"
      ]
     },
     "execution_count": 30,
     "metadata": {},
     "output_type": "execute_result"
    }
   ],
   "source": [
    "student.loc[1,\"Maths\"]# only access 1 col i.e arush 1maths  mark =67 ,,, if we dont know index of col then we write col name we use loc only"
   ]
  },
  {
   "cell_type": "code",
   "execution_count": 31,
   "metadata": {},
   "outputs": [
    {
     "data": {
      "text/plain": [
       "67"
      ]
     },
     "execution_count": 31,
     "metadata": {},
     "output_type": "execute_result"
    }
   ],
   "source": [
    "student.iloc[1,1]# if we know col index then we use i loc i.e index location"
   ]
  },
  {
   "cell_type": "code",
   "execution_count": 32,
   "metadata": {},
   "outputs": [
    {
     "name": "stdout",
     "output_type": "stream",
     "text": [
      "Index(['Name', 'Maths', 'Science', 'City'], dtype='object')\n"
     ]
    }
   ],
   "source": [
    "print(student.columns)# to show columns name "
   ]
  },
  {
   "cell_type": "code",
   "execution_count": 33,
   "metadata": {},
   "outputs": [
    {
     "data": {
      "text/plain": [
       "67"
      ]
     },
     "execution_count": 33,
     "metadata": {},
     "output_type": "execute_result"
    }
   ],
   "source": [
    "#another way of same process\n",
    "student[\"Maths\"][1]"
   ]
  },
  {
   "cell_type": "code",
   "execution_count": 34,
   "metadata": {},
   "outputs": [
    {
     "name": "stdout",
     "output_type": "stream",
     "text": [
      "     Name  Maths  Science     City\n",
      "0    Annu     56       45   Mumbai\n",
      "1   Arush     67       67  chennai\n",
      "2  ishika     89       89      Usa\n",
      "3  fareen     23       23  America\n"
     ]
    }
   ],
   "source": [
    "print(student)"
   ]
  },
  {
   "cell_type": "code",
   "execution_count": 35,
   "metadata": {},
   "outputs": [
    {
     "data": {
      "text/html": [
       "<div>\n",
       "<style scoped>\n",
       "    .dataframe tbody tr th:only-of-type {\n",
       "        vertical-align: middle;\n",
       "    }\n",
       "\n",
       "    .dataframe tbody tr th {\n",
       "        vertical-align: top;\n",
       "    }\n",
       "\n",
       "    .dataframe thead th {\n",
       "        text-align: right;\n",
       "    }\n",
       "</style>\n",
       "<table border=\"1\" class=\"dataframe\">\n",
       "  <thead>\n",
       "    <tr style=\"text-align: right;\">\n",
       "      <th></th>\n",
       "      <th>Name</th>\n",
       "      <th>Maths</th>\n",
       "      <th>Science</th>\n",
       "      <th>City</th>\n",
       "    </tr>\n",
       "  </thead>\n",
       "  <tbody>\n",
       "    <tr>\n",
       "      <th>1</th>\n",
       "      <td>Arush</td>\n",
       "      <td>67</td>\n",
       "      <td>67</td>\n",
       "      <td>chennai</td>\n",
       "    </tr>\n",
       "    <tr>\n",
       "      <th>2</th>\n",
       "      <td>ishika</td>\n",
       "      <td>89</td>\n",
       "      <td>89</td>\n",
       "      <td>Usa</td>\n",
       "    </tr>\n",
       "  </tbody>\n",
       "</table>\n",
       "</div>"
      ],
      "text/plain": [
       "     Name  Maths  Science     City\n",
       "1   Arush     67       67  chennai\n",
       "2  ishika     89       89      Usa"
      ]
     },
     "execution_count": 35,
     "metadata": {},
     "output_type": "execute_result"
    }
   ],
   "source": [
    "#access data through slicing means :\n",
    "# suppose access all details(all columns of rowindex= and 2 )\n",
    "student.iloc[1:3,:]#here iloc[row startindex:stopindex,col start:col end] col no given means all access"
   ]
  },
  {
   "cell_type": "code",
   "execution_count": 36,
   "metadata": {},
   "outputs": [
    {
     "data": {
      "text/html": [
       "<div>\n",
       "<style scoped>\n",
       "    .dataframe tbody tr th:only-of-type {\n",
       "        vertical-align: middle;\n",
       "    }\n",
       "\n",
       "    .dataframe tbody tr th {\n",
       "        vertical-align: top;\n",
       "    }\n",
       "\n",
       "    .dataframe thead th {\n",
       "        text-align: right;\n",
       "    }\n",
       "</style>\n",
       "<table border=\"1\" class=\"dataframe\">\n",
       "  <thead>\n",
       "    <tr style=\"text-align: right;\">\n",
       "      <th></th>\n",
       "      <th>Maths</th>\n",
       "      <th>Science</th>\n",
       "      <th>City</th>\n",
       "    </tr>\n",
       "  </thead>\n",
       "  <tbody>\n",
       "    <tr>\n",
       "      <th>1</th>\n",
       "      <td>67</td>\n",
       "      <td>67</td>\n",
       "      <td>chennai</td>\n",
       "    </tr>\n",
       "    <tr>\n",
       "      <th>2</th>\n",
       "      <td>89</td>\n",
       "      <td>89</td>\n",
       "      <td>Usa</td>\n",
       "    </tr>\n",
       "  </tbody>\n",
       "</table>\n",
       "</div>"
      ],
      "text/plain": [
       "   Maths  Science     City\n",
       "1     67       67  chennai\n",
       "2     89       89      Usa"
      ]
     },
     "execution_count": 36,
     "metadata": {},
     "output_type": "execute_result"
    }
   ],
   "source": [
    "#suppose access details of Maths,Science and City of  rowindex =1 and 2 ) \n",
    "student.iloc[1:3,1:]   #here [rowstart:row stop , colstart:till end]"
   ]
  },
  {
   "cell_type": "code",
   "execution_count": 37,
   "metadata": {},
   "outputs": [
    {
     "data": {
      "text/html": [
       "<div>\n",
       "<style scoped>\n",
       "    .dataframe tbody tr th:only-of-type {\n",
       "        vertical-align: middle;\n",
       "    }\n",
       "\n",
       "    .dataframe tbody tr th {\n",
       "        vertical-align: top;\n",
       "    }\n",
       "\n",
       "    .dataframe thead th {\n",
       "        text-align: right;\n",
       "    }\n",
       "</style>\n",
       "<table border=\"1\" class=\"dataframe\">\n",
       "  <thead>\n",
       "    <tr style=\"text-align: right;\">\n",
       "      <th></th>\n",
       "      <th>Name</th>\n",
       "      <th>Maths</th>\n",
       "    </tr>\n",
       "  </thead>\n",
       "  <tbody>\n",
       "    <tr>\n",
       "      <th>1</th>\n",
       "      <td>Arush</td>\n",
       "      <td>67</td>\n",
       "    </tr>\n",
       "    <tr>\n",
       "      <th>2</th>\n",
       "      <td>ishika</td>\n",
       "      <td>89</td>\n",
       "    </tr>\n",
       "    <tr>\n",
       "      <th>3</th>\n",
       "      <td>fareen</td>\n",
       "      <td>23</td>\n",
       "    </tr>\n",
       "  </tbody>\n",
       "</table>\n",
       "</div>"
      ],
      "text/plain": [
       "     Name  Maths\n",
       "1   Arush     67\n",
       "2  ishika     89\n",
       "3  fareen     23"
      ]
     },
     "execution_count": 37,
     "metadata": {},
     "output_type": "execute_result"
    }
   ],
   "source": [
    "student.iloc[1:,:2] #[ro3 st=1 :sp=all , col st:0 : sp=2 i.e 2-1]"
   ]
  },
  {
   "cell_type": "code",
   "execution_count": 41,
   "metadata": {},
   "outputs": [
    {
     "name": "stdout",
     "output_type": "stream",
     "text": [
      "     Name  Maths  Science     City\n",
      "0    Annu     56       45   Mumbai\n",
      "1   Arush     67       67  chennai\n",
      "2  ishika     89       89      Usa\n",
      "3  fareen     23       23  America\n"
     ]
    }
   ],
   "source": [
    "print(student)"
   ]
  },
  {
   "cell_type": "code",
   "execution_count": 43,
   "metadata": {},
   "outputs": [
    {
     "name": "stdout",
     "output_type": "stream",
     "text": [
      "     Name  Maths  Science\n",
      "0    Annu     56       45\n",
      "1   Arush     67       67\n",
      "2  ishika     89       89\n",
      "3  fareen     23       23\n"
     ]
    }
   ],
   "source": [
    "S1=student.drop(\"City\",axis=1)# to copy name ,maths and science col of all student from data frame student \n",
    "#to new dataframe S1    is drop col then write axis =1 bcoz its go right to left ---->>\n",
    "                        #is drop row  then write axis =0 bcoz its go top to bottom |\n",
    "print(S1)              #                                                          |"
   ]
  },
  {
   "cell_type": "code",
   "execution_count": 44,
   "metadata": {},
   "outputs": [
    {
     "name": "stdout",
     "output_type": "stream",
     "text": [
      "     Name  Maths  Science\n",
      "0    Annu     56       45\n",
      "1   Arush     67       67\n",
      "2  ishika     89       89\n",
      "3  fareen     23       23\n"
     ]
    }
   ],
   "source": [
    "#another way : #to copy Name,Maths and Science columns of all students from data frame student \n",
    "#to new dataframe S1\n",
    "S1=student.iloc[:,:-1] # [0:tillend , 0:-2] stop-1=-1-1=-2  we use for only del last col of data\n",
    "print(S1)"
   ]
  },
  {
   "cell_type": "code",
   "execution_count": null,
   "metadata": {},
   "outputs": [],
   "source": [
    "\n"
   ]
  }
 ],
 "metadata": {
  "kernelspec": {
   "display_name": "Python 3",
   "language": "python",
   "name": "python3"
  },
  "language_info": {
   "codemirror_mode": {
    "name": "ipython",
    "version": 3
   },
   "file_extension": ".py",
   "mimetype": "text/x-python",
   "name": "python",
   "nbconvert_exporter": "python",
   "pygments_lexer": "ipython3",
   "version": "3.7.6"
  }
 },
 "nbformat": 4,
 "nbformat_minor": 4
}
